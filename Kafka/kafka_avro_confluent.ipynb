{
 "cells": [
  {
   "cell_type": "code",
   "execution_count": 1,
   "metadata": {},
   "outputs": [],
   "source": [
    "import avro.schema\n",
    "import confluent_kafka.avro"
   ]
  },
  {
   "cell_type": "code",
   "execution_count": 3,
   "metadata": {},
   "outputs": [],
   "source": [
    "def connect_kafka_producer(value_schema, key_schema, \n",
    "                           server='localhost:29092', schema_registry = 'http://localhost:8081', api=True):\n",
    "    \"\"\"\n",
    "    Create the kafka producer with avro schema \n",
    "    :param value_schema: schema for the message 'string'\n",
    "    :param key_schema: schema for the key 'string'\n",
    "    :return: a kafka producer\n",
    "    \"\"\"\n",
    "    producer = None\n",
    "    try:\n",
    "        producer = confluent_kafka.avro.AvroProducer(\n",
    "    {\n",
    "        'api.version.request': api,\n",
    "        'compression.codec': 'gzip',\n",
    "        'default.topic.config': {'request.required.acks': 1},\n",
    "        'bootstrap.servers': server,\n",
    "        'schema.registry.url': schema_registry,\n",
    "    }, \n",
    "    default_key_schema=avro.schema.Parse(value_schema), \n",
    "    default_value_schema=avro.schema.Parse(key_schema))\n",
    "        \n",
    "    except Exception as ex:\n",
    "        print('Exception while connecting Kafka')\n",
    "        print(str(ex))\n",
    "    finally:\n",
    "        return producer"
   ]
  },
  {
   "cell_type": "code",
   "execution_count": 12,
   "metadata": {},
   "outputs": [],
   "source": [
    "def connect_kafka_consummer(topic, server='localhost:29092', schema_registry = 'http://localhost:8081', api=True):\n",
    "    conf = {'group.id': 'mygroup', \n",
    "            'api.version.request': api,\n",
    "            'default.topic.config': {'auto.offset.reset': 'smallest'},\n",
    "            'bootstrap.servers': server,\n",
    "            'schema.registry.url': schema_registry\n",
    "           }\n",
    "    \n",
    "    consumer = None\n",
    "    try:\n",
    "        consumer = confluent_kafka.avro.AvroConsumer(conf)\n",
    "        consumer.subscribe([topic])\n",
    "    except Exception as ex:\n",
    "        print('Exception while connecting Kafka')\n",
    "        print(str(ex))\n",
    "    finally:\n",
    "        return consumer"
   ]
  },
  {
   "cell_type": "code",
   "execution_count": 4,
   "metadata": {},
   "outputs": [],
   "source": [
    "producer = connect_kafka_producer('{\"type\": \"string\"}', '{\"type\": \"string\"}')"
   ]
  },
  {
   "cell_type": "code",
   "execution_count": 5,
   "metadata": {},
   "outputs": [
    {
     "data": {
      "text/plain": [
       "0"
      ]
     },
     "execution_count": 5,
     "metadata": {},
     "output_type": "execute_result"
    }
   ],
   "source": [
    "producer.produce(topic='bug', value='not empty', key='test key')\n",
    "producer.flush() #must be used before exiting; it is a synchronous producer and it kills performance if we use after each produce"
   ]
  },
  {
   "cell_type": "code",
   "execution_count": 13,
   "metadata": {},
   "outputs": [],
   "source": [
    "consumer = connect_kafka_consummer('bug')"
   ]
  },
  {
   "cell_type": "code",
   "execution_count": 14,
   "metadata": {},
   "outputs": [],
   "source": [
    "msg = consumer.poll()"
   ]
  },
  {
   "cell_type": "code",
   "execution_count": 15,
   "metadata": {},
   "outputs": [
    {
     "data": {
      "text/plain": [
       "'not empty'"
      ]
     },
     "execution_count": 15,
     "metadata": {},
     "output_type": "execute_result"
    }
   ],
   "source": [
    "msg.value()"
   ]
  },
  {
   "cell_type": "code",
   "execution_count": 16,
   "metadata": {},
   "outputs": [
    {
     "data": {
      "text/plain": [
       "'test key'"
      ]
     },
     "execution_count": 16,
     "metadata": {},
     "output_type": "execute_result"
    }
   ],
   "source": [
    "msg.key()"
   ]
  }
 ],
 "metadata": {
  "kernelspec": {
   "display_name": "Python 3",
   "language": "python",
   "name": "python3"
  },
  "language_info": {
   "codemirror_mode": {
    "name": "ipython",
    "version": 3
   },
   "file_extension": ".py",
   "mimetype": "text/x-python",
   "name": "python",
   "nbconvert_exporter": "python",
   "pygments_lexer": "ipython3",
   "version": "3.6.3"
  }
 },
 "nbformat": 4,
 "nbformat_minor": 2
}
