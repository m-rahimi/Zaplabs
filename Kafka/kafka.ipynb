{
 "cells": [
  {
   "cell_type": "code",
   "execution_count": 1,
   "metadata": {},
   "outputs": [],
   "source": [
    "from kafka import KafkaProducer\n",
    "def connect_kafka_producer(server=['localhost:9092'], api=(0, 10)):\n",
    "    producer = None\n",
    "    try:\n",
    "        producer = KafkaProducer(bootstrap_servers=server, api_version=api)\n",
    "    except Exception as ex:\n",
    "        print('Exception while connecting Kafka')\n",
    "        print(str(ex))\n",
    "    finally:\n",
    "        return producer"
   ]
  },
  {
   "cell_type": "code",
   "execution_count": 2,
   "metadata": {},
   "outputs": [],
   "source": [
    "def publish_message(producer_instance, topic_name, value, key=None):\n",
    "    try:\n",
    "        try:\n",
    "            key_bytes = bytes(key, encoding='utf-8')\n",
    "        except:\n",
    "            key_bytes = None\n",
    "        value_bytes = bytes(value, encoding='utf-8')\n",
    "        producer_instance.send(topic_name, key=key_bytes, value=value_bytes)\n",
    "        producer_instance.flush()\n",
    "        print('Message published successfully.')\n",
    "    except Exception as ex:\n",
    "        print('Exception in publishing message')\n",
    "        print(str(ex))"
   ]
  },
  {
   "cell_type": "code",
   "execution_count": 3,
   "metadata": {},
   "outputs": [],
   "source": [
    "from kafka import KafkaConsumer\n",
    "def connect_kafka_consummer(topic, server=['localhost:9092'], api=(0, 10), reset='earliest'):\n",
    "    consumer = None\n",
    "    try:\n",
    "        consumer = KafkaConsumer(topic, auto_offset_reset=reset,\n",
    "                             bootstrap_servers=server, api_version=api, consumer_timeout_ms=1000)\n",
    "    except Exception as ex:\n",
    "        print('Exception while connecting Kafka')\n",
    "        print(str(ex))\n",
    "    finally:\n",
    "        return consumer"
   ]
  },
  {
   "cell_type": "markdown",
   "metadata": {},
   "source": [
    "## test send message to kafka   \n",
    "json file configuration\n",
    "\n",
    "```\n",
    "{ \n",
    "  \"personnel_id\" : \"\",   \n",
    "  \"cards\" : [ \n",
    "    { \n",
    "      \"card_type\" : \"\",         # AddInsight/ShareInsight \n",
    "      \"card_rank\" : \"\",         # Datascience will determine the rank for a card \n",
    "      \"card_image\" : \"\",        # TODO: We are yet to determine this process for fetching the image. \n",
    "      \"card_location\" : \"\",     # TODO: Location may be city, neighborhood or property. \n",
    "      \"card_content\" : { \n",
    "        \"section_1\" : \"\",       # Used as the title for a card \n",
    "        \"section_2\" : \"\"        # Used as the subtitle for a card \n",
    "      } \n",
    "    } \n",
    "  ] \n",
    "} \n",
    "```"
   ]
  },
  {
   "cell_type": "code",
   "execution_count": 4,
   "metadata": {},
   "outputs": [],
   "source": [
    "card1 = {\n",
    "  \"personnel_id\" : 1231,\n",
    "  \"cards\" : [\n",
    "    {\n",
    "      \"card_type\" : \"AddInsight\",         # AddInsight/ShareInsight\n",
    "      \"card_rank\" : 1,         # Datascience will determine the rank for a card\n",
    "      \"card_image\" : \"\",        # TODO: We are yet to determine this process for fetching the image.\n",
    "      \"card_location\" : \"\",     # TODO: Location may be city, neighborhood or property.\n",
    "      \"card_content\" : {\n",
    "        \"section_1\" : \"Write local insight for city X1\",       # Used as the title for a card\n",
    "        \"section_2\" : \"\"        # Used as the subtitle for a card\n",
    "      }\n",
    "    }\n",
    "  ]\n",
    "}\n",
    "\n",
    "card2 = {\n",
    "  \"personnel_id\" : 1232,\n",
    "  \"cards\" : [\n",
    "    {\n",
    "      \"card_type\" : \"AddInsight\",         # AddInsight/ShareInsight\n",
    "      \"card_rank\" : 1,         # Datascience will determine the rank for a card\n",
    "      \"card_image\" : \"\",        # TODO: We are yet to determine this process for fetching the image.\n",
    "      \"card_location\" : \"\",     # TODO: Location may be city, neighborhood or property.\n",
    "      \"card_content\" : {\n",
    "        \"section_1\" : \"Write local insight for city X2\",       # Used as the title for a card\n",
    "        \"section_2\" : \"\"        # Used as the subtitle for a card\n",
    "      }\n",
    "    }\n",
    "  ]\n",
    "}\n",
    "\n",
    "card3 = {\n",
    "  \"personnel_id\" : 1233,\n",
    "  \"cards\" : [\n",
    "    {\n",
    "      \"card_type\" : \"AddInsight\",         # AddInsight/ShareInsight\n",
    "      \"card_rank\" : 1,         # Datascience will determine the rank for a card\n",
    "      \"card_image\" : \"\",        # TODO: We are yet to determine this process for fetching the image.\n",
    "      \"card_location\" : \"\",     # TODO: Location may be city, neighborhood or property.\n",
    "      \"card_content\" : {\n",
    "        \"section_1\" : \"Write local insight for city X3\",       # Used as the title for a card\n",
    "        \"section_2\" : \"\"        # Used as the subtitle for a card\n",
    "      }\n",
    "    }\n",
    "  ]\n",
    "}"
   ]
  },
  {
   "cell_type": "code",
   "execution_count": 5,
   "metadata": {},
   "outputs": [],
   "source": [
    "cards = [card1, card2, card3]"
   ]
  },
  {
   "cell_type": "code",
   "execution_count": 6,
   "metadata": {},
   "outputs": [],
   "source": [
    "import json\n",
    "cards_json = []\n",
    "for card in cards:\n",
    "    cards_json.append(json.dumps(card))"
   ]
  },
  {
   "cell_type": "markdown",
   "metadata": {},
   "source": [
    "### create kafka producer and write cards into kafka"
   ]
  },
  {
   "cell_type": "code",
   "execution_count": 7,
   "metadata": {},
   "outputs": [],
   "source": [
    "def publish_messages_kafka(topic, messages):\n",
    "    kafka_producer = connect_kafka_producer()\n",
    "    for message in messages:\n",
    "        publish_message(kafka_producer, topic, message)\n",
    "        \n",
    "    if kafka_producer is not None:\n",
    "        kafka_producer.close()"
   ]
  },
  {
   "cell_type": "code",
   "execution_count": 8,
   "metadata": {},
   "outputs": [
    {
     "name": "stdout",
     "output_type": "stream",
     "text": [
      "Message published successfully.\n",
      "Message published successfully.\n",
      "Message published successfully.\n"
     ]
    }
   ],
   "source": [
    "publish_messages_kafka('AddInsight', cards_json)"
   ]
  },
  {
   "cell_type": "markdown",
   "metadata": {},
   "source": [
    "### create consumer and get data from kafka"
   ]
  },
  {
   "cell_type": "code",
   "execution_count": 11,
   "metadata": {},
   "outputs": [],
   "source": [
    "topic = 'AddInsight'\n",
    "consumer = connect_kafka_consummer(topic)"
   ]
  },
  {
   "cell_type": "code",
   "execution_count": 12,
   "metadata": {},
   "outputs": [],
   "source": [
    "kafka_rec = []\n",
    "for msg in consumer:\n",
    "    kafka_rec.append(msg.value)"
   ]
  },
  {
   "cell_type": "code",
   "execution_count": 13,
   "metadata": {},
   "outputs": [
    {
     "data": {
      "text/plain": [
       "[b'{\"personnel_id\": 1231, \"cards\": [{\"card_type\": \"AddInsight\", \"card_rank\": 1, \"card_image\": \"\", \"card_location\": \"\", \"card_content\": {\"section_1\": \"Write local insight for city X1\", \"section_2\": \"\"}}]}',\n",
       " b'{\"personnel_id\": 1232, \"cards\": [{\"card_type\": \"AddInsight\", \"card_rank\": 1, \"card_image\": \"\", \"card_location\": \"\", \"card_content\": {\"section_1\": \"Write local insight for city X2\", \"section_2\": \"\"}}]}',\n",
       " b'{\"personnel_id\": 1233, \"cards\": [{\"card_type\": \"AddInsight\", \"card_rank\": 1, \"card_image\": \"\", \"card_location\": \"\", \"card_content\": {\"section_1\": \"Write local insight for city X3\", \"section_2\": \"\"}}]}']"
      ]
     },
     "execution_count": 13,
     "metadata": {},
     "output_type": "execute_result"
    }
   ],
   "source": [
    "kafka_rec"
   ]
  },
  {
   "cell_type": "code",
   "execution_count": 14,
   "metadata": {},
   "outputs": [],
   "source": [
    "### convert json file to dic\n",
    "dic_rec = []\n",
    "for file in kafka_rec:\n",
    "    dic_rec.append(json.loads(file))"
   ]
  },
  {
   "cell_type": "code",
   "execution_count": 15,
   "metadata": {},
   "outputs": [
    {
     "data": {
      "text/plain": [
       "[{'personnel_id': 1231,\n",
       "  'cards': [{'card_type': 'AddInsight',\n",
       "    'card_rank': 1,\n",
       "    'card_image': '',\n",
       "    'card_location': '',\n",
       "    'card_content': {'section_1': 'Write local insight for city X1',\n",
       "     'section_2': ''}}]},\n",
       " {'personnel_id': 1232,\n",
       "  'cards': [{'card_type': 'AddInsight',\n",
       "    'card_rank': 1,\n",
       "    'card_image': '',\n",
       "    'card_location': '',\n",
       "    'card_content': {'section_1': 'Write local insight for city X2',\n",
       "     'section_2': ''}}]},\n",
       " {'personnel_id': 1233,\n",
       "  'cards': [{'card_type': 'AddInsight',\n",
       "    'card_rank': 1,\n",
       "    'card_image': '',\n",
       "    'card_location': '',\n",
       "    'card_content': {'section_1': 'Write local insight for city X3',\n",
       "     'section_2': ''}}]}]"
      ]
     },
     "execution_count": 15,
     "metadata": {},
     "output_type": "execute_result"
    }
   ],
   "source": [
    "dic_rec"
   ]
  },
  {
   "cell_type": "code",
   "execution_count": null,
   "metadata": {},
   "outputs": [],
   "source": []
  }
 ],
 "metadata": {
  "kernelspec": {
   "display_name": "Python 3",
   "language": "python",
   "name": "python3"
  },
  "language_info": {
   "codemirror_mode": {
    "name": "ipython",
    "version": 3
   },
   "file_extension": ".py",
   "mimetype": "text/x-python",
   "name": "python",
   "nbconvert_exporter": "python",
   "pygments_lexer": "ipython3",
   "version": "3.6.3"
  }
 },
 "nbformat": 4,
 "nbformat_minor": 2
}
