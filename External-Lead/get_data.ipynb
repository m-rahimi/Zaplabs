{
 "cells": [
  {
   "cell_type": "code",
   "execution_count": 1,
   "metadata": {
    "collapsed": true
   },
   "outputs": [],
   "source": [
    "import numpy as np\n",
    "import pandas as pd"
   ]
  },
  {
   "cell_type": "code",
   "execution_count": 2,
   "metadata": {
    "collapsed": true
   },
   "outputs": [],
   "source": [
    "import matplotlib.pyplot as plt\n",
    "import seaborn as sns\n",
    "color = sns.color_palette()\n",
    "\n",
    "%matplotlib inline"
   ]
  },
  {
   "cell_type": "code",
   "execution_count": 3,
   "metadata": {
    "collapsed": true
   },
   "outputs": [],
   "source": [
    "import sys\n",
    "sys.path.insert(0, '/Users/mrahimi/AVM/module/')\n",
    "import Plot\n",
    "pl = Plot.Plot()\n",
    "import sql2pd"
   ]
  },
  {
   "cell_type": "code",
   "execution_count": 23,
   "metadata": {
    "collapsed": true
   },
   "outputs": [],
   "source": [
    "query = \"\"\"SELECT cu.customer_id, cu.customer_date, cl.client_date, cl.client_id, cl.lr_website_name, cl.metro, cl.LR_LEAD_ACCEPT_DATE, cl.LR_LEAD_CREATE_DATE, cu.application_id FROM\n",
    "    (SELECT customer_id, create_date AS customer_date, application_id FROM customer\n",
    "     WHERE create_date > TO_DATE('01-JAN-15') AND create_date < TO_DATE('01-JAN-18')\n",
    "    ) CU\n",
    "JOIN\n",
    "    (SELECT customer_id, client_id, create_date AS client_date, lr_website_name, lr_source_name, metro, LR_LEAD_ACCEPT_DATE, LR_LEAD_CREATE_DATE FROM client_agent\n",
    "    WHERE create_date > TO_DATE('01-JAN-15') AND create_date < TO_DATE('01-JAN-18')\n",
    "    ) CL\n",
    "ON cu.customer_id = cl.customer_id\n",
    "WHERE \n",
    "UPPER(lr_website_name) NOT LIKE '%ZAP%' AND\n",
    "UPPER(lr_source_name) NOT LIKE '%ZAP%' AND\n",
    "lr_website_name != 'Century21.com' AND\n",
    "lr_website_name != '*Custom Company' AND \n",
    "lr_website_name != 'ColdwellBanker.com' AND\n",
    "lr_website_name != 'BHGRealEstate.com' AND\n",
    "lr_website_name != 'Century21 Mobile' AND\n",
    "lr_website_name != 'ERA.com' AND\n",
    "lr_website_name != 'DotSignal Text ERA'\"\"\""
   ]
  },
  {
   "cell_type": "code",
   "execution_count": 28,
   "metadata": {
    "collapsed": true
   },
   "outputs": [],
   "source": [
    "query = \"\"\"SELECT cu.customer_id, cu.customer_date, cl.client_date, cl.client_id, cl.lr_website_name, cl.metro, cl.LR_LEAD_ACCEPT_DATE, cl.LR_LEAD_CREATE_DATE, cu.application_id FROM\n",
    "    (SELECT customer_id, create_date AS customer_date, application_id FROM customer\n",
    "    ) CU\n",
    "JOIN\n",
    "    (SELECT customer_id, client_id, create_date AS client_date, lr_website_name, lr_source_name, metro, LR_LEAD_ACCEPT_DATE, LR_LEAD_CREATE_DATE FROM client_agent\n",
    "    ) CL\n",
    "ON cu.customer_id = cl.customer_id\n",
    "WHERE \n",
    "UPPER(lr_website_name) NOT LIKE '%ZAP%' AND\n",
    "UPPER(lr_source_name) NOT LIKE '%ZAP%' AND\n",
    "lr_website_name != 'Century21.com' AND\n",
    "lr_website_name != '*Custom Company' AND \n",
    "lr_website_name != 'ColdwellBanker.com' AND\n",
    "lr_website_name != 'BHGRealEstate.com' AND\n",
    "lr_website_name != 'Century21 Mobile' AND\n",
    "lr_website_name != 'ERA.com' AND\n",
    "lr_website_name != 'DotSignal Text ERA'\"\"\""
   ]
  },
  {
   "cell_type": "code",
   "execution_count": 29,
   "metadata": {},
   "outputs": [
    {
     "name": "stdout",
     "output_type": "stream",
     "text": [
      "The query took 1199.13 seconds (19.99 minutes). \n",
      "\n",
      "The query returned 2430368 rows. \t shape:  (2430368, 9) \n",
      "\n",
      "Results were saved to customer_client3.csv \n",
      "\n",
      "The following select statement was executed: \n",
      " SELECT cu.customer_id, cu.customer_date, cl.client_date, cl.client_id, cl.lr_website_name, cl.metro, cl.LR_LEAD_ACCEPT_DATE, cl.LR_LEAD_CREATE_DATE, cu.application_id FROM\n",
      "    (SELECT customer_id, create_date AS customer_date, application_id FROM customer\n",
      "    ) CU\n",
      "JOIN\n",
      "    (SELECT customer_id, client_id, create_date AS client_date, lr_website_name, lr_source_name, metro, LR_LEAD_ACCEPT_DATE, LR_LEAD_CREATE_DATE FROM client_agent\n",
      "    ) CL\n",
      "ON cu.customer_id = cl.customer_id\n",
      "WHERE \n",
      "UPPER(lr_website_name) NOT LIKE '%ZAP%' AND\n",
      "UPPER(lr_source_name) NOT LIKE '%ZAP%' AND\n",
      "lr_website_name != 'Century21.com' AND\n",
      "lr_website_name != '*Custom Company' AND \n",
      "lr_website_name != 'ColdwellBanker.com' AND\n",
      "lr_website_name != 'BHGRealEstate.com' AND\n",
      "lr_website_name != 'Century21 Mobile' AND\n",
      "lr_website_name != 'ERA.com' AND\n",
      "lr_website_name != 'DotSignal Text ERA' \n",
      "\n",
      "The following columns were returned: \n",
      " ['CUSTOMER_ID', 'CUSTOMER_DATE', 'CLIENT_DATE', 'CLIENT_ID', 'LR_WEBSITE_NAME', 'METRO', 'LR_LEAD_ACCEPT_DATE', 'LR_LEAD_CREATE_DATE', 'APPLICATION_ID'] \n",
      "\n"
     ]
    }
   ],
   "source": [
    "df = sql2pd.stby_query(select=(query), file_name = \"customer_client3.csv\")"
   ]
  },
  {
   "cell_type": "code",
   "execution_count": 30,
   "metadata": {
    "collapsed": true
   },
   "outputs": [],
   "source": [
    "query = \"\"\"SELECT cu.customer_id, cu.customer_date, cl.client_date, cl.client_id, cl.lr_website_name, cl.metro, cl.LR_LEAD_ACCEPT_DATE, cl.LR_LEAD_CREATE_DATE, cu.application_id FROM\n",
    "    (SELECT customer_id, create_date AS customer_date, application_id FROM customer\n",
    "    ) CU\n",
    "JOIN\n",
    "    (SELECT customer_id, client_id, create_date AS client_date, lr_website_name, lr_source_name, metro, LR_LEAD_ACCEPT_DATE, LR_LEAD_CREATE_DATE FROM client_agent\n",
    "    ) CL\n",
    "ON cu.customer_id = cl.customer_id\n",
    "\"\"\""
   ]
  },
  {
   "cell_type": "code",
   "execution_count": 31,
   "metadata": {},
   "outputs": [
    {
     "name": "stdout",
     "output_type": "stream",
     "text": [
      "The query took 5678.59 seconds (94.64 minutes). \n",
      "\n",
      "The query returned 11905988 rows. \t shape:  (11905988, 9) \n",
      "\n",
      "Results were saved to customer_client4.csv \n",
      "\n",
      "The following select statement was executed: \n",
      " SELECT cu.customer_id, cu.customer_date, cl.client_date, cl.client_id, cl.lr_website_name, cl.metro, cl.LR_LEAD_ACCEPT_DATE, cl.LR_LEAD_CREATE_DATE, cu.application_id FROM\n",
      "    (SELECT customer_id, create_date AS customer_date, application_id FROM customer\n",
      "    ) CU\n",
      "JOIN\n",
      "    (SELECT customer_id, client_id, create_date AS client_date, lr_website_name, lr_source_name, metro, LR_LEAD_ACCEPT_DATE, LR_LEAD_CREATE_DATE FROM client_agent\n",
      "    ) CL\n",
      "ON cu.customer_id = cl.customer_id\n",
      " \n",
      "\n",
      "The following columns were returned: \n",
      " ['CUSTOMER_ID', 'CUSTOMER_DATE', 'CLIENT_DATE', 'CLIENT_ID', 'LR_WEBSITE_NAME', 'METRO', 'LR_LEAD_ACCEPT_DATE', 'LR_LEAD_CREATE_DATE', 'APPLICATION_ID'] \n",
      "\n"
     ]
    }
   ],
   "source": [
    "df = sql2pd.stby_query(select=(query), file_name = \"customer_client4.csv\")"
   ]
  },
  {
   "cell_type": "code",
   "execution_count": 10,
   "metadata": {},
   "outputs": [
    {
     "data": {
      "text/html": [
       "<div>\n",
       "<style>\n",
       "    .dataframe thead tr:only-child th {\n",
       "        text-align: right;\n",
       "    }\n",
       "\n",
       "    .dataframe thead th {\n",
       "        text-align: left;\n",
       "    }\n",
       "\n",
       "    .dataframe tbody tr th {\n",
       "        vertical-align: top;\n",
       "    }\n",
       "</style>\n",
       "<table border=\"1\" class=\"dataframe\">\n",
       "  <thead>\n",
       "    <tr style=\"text-align: right;\">\n",
       "      <th></th>\n",
       "      <th>CUSTOMER_ID</th>\n",
       "      <th>CUSTOMER_DATE</th>\n",
       "      <th>CLIENT_DATE</th>\n",
       "      <th>CLIENT_ID</th>\n",
       "      <th>LR_WEBSITE_NAME</th>\n",
       "      <th>METRO</th>\n",
       "      <th>LR_LEAD_ACCEPT_DATE</th>\n",
       "      <th>LR_LEAD_CREATE_DATE</th>\n",
       "      <th>APPLICATION_ID</th>\n",
       "    </tr>\n",
       "  </thead>\n",
       "  <tbody>\n",
       "    <tr>\n",
       "      <th>0</th>\n",
       "      <td>26599419</td>\n",
       "      <td>2017-03-08 16:49:52</td>\n",
       "      <td>2017-03-08 16:49:52</td>\n",
       "      <td>31383695</td>\n",
       "      <td>HotPads.com</td>\n",
       "      <td>grand-rapids-mi</td>\n",
       "      <td>NaT</td>\n",
       "      <td>2017-03-08 16:48:03</td>\n",
       "      <td>7</td>\n",
       "    </tr>\n",
       "    <tr>\n",
       "      <th>1</th>\n",
       "      <td>26599499</td>\n",
       "      <td>2017-03-08 16:55:42</td>\n",
       "      <td>2017-03-08 16:55:42</td>\n",
       "      <td>31383779</td>\n",
       "      <td>Realtor.com</td>\n",
       "      <td>middlesex-county-nj</td>\n",
       "      <td>2017-03-08 19:55:38</td>\n",
       "      <td>2017-03-08 16:23:57</td>\n",
       "      <td>4</td>\n",
       "    </tr>\n",
       "    <tr>\n",
       "      <th>2</th>\n",
       "      <td>26599613</td>\n",
       "      <td>2017-03-08 17:07:32</td>\n",
       "      <td>2017-03-08 17:07:32</td>\n",
       "      <td>31383919</td>\n",
       "      <td>Realtor.com</td>\n",
       "      <td>sheridan-wy</td>\n",
       "      <td>2017-03-08 20:07:23</td>\n",
       "      <td>2017-03-08 17:03:47</td>\n",
       "      <td>8</td>\n",
       "    </tr>\n",
       "    <tr>\n",
       "      <th>3</th>\n",
       "      <td>26599615</td>\n",
       "      <td>2017-03-08 17:07:32</td>\n",
       "      <td>2017-03-08 17:07:32</td>\n",
       "      <td>31383921</td>\n",
       "      <td>Zillow.com</td>\n",
       "      <td>palmbeach</td>\n",
       "      <td>NaT</td>\n",
       "      <td>2017-03-08 16:30:10</td>\n",
       "      <td>9</td>\n",
       "    </tr>\n",
       "    <tr>\n",
       "      <th>4</th>\n",
       "      <td>26242967</td>\n",
       "      <td>2017-02-15 07:38:44</td>\n",
       "      <td>2017-03-08 17:08:32</td>\n",
       "      <td>31383945</td>\n",
       "      <td>Realtor.com</td>\n",
       "      <td>boston</td>\n",
       "      <td>2017-03-08 20:08:24</td>\n",
       "      <td>2017-03-08 17:06:33</td>\n",
       "      <td>8</td>\n",
       "    </tr>\n",
       "  </tbody>\n",
       "</table>\n",
       "</div>"
      ],
      "text/plain": [
       "   CUSTOMER_ID       CUSTOMER_DATE         CLIENT_DATE  CLIENT_ID  \\\n",
       "0     26599419 2017-03-08 16:49:52 2017-03-08 16:49:52   31383695   \n",
       "1     26599499 2017-03-08 16:55:42 2017-03-08 16:55:42   31383779   \n",
       "2     26599613 2017-03-08 17:07:32 2017-03-08 17:07:32   31383919   \n",
       "3     26599615 2017-03-08 17:07:32 2017-03-08 17:07:32   31383921   \n",
       "4     26242967 2017-02-15 07:38:44 2017-03-08 17:08:32   31383945   \n",
       "\n",
       "  LR_WEBSITE_NAME                METRO LR_LEAD_ACCEPT_DATE  \\\n",
       "0     HotPads.com      grand-rapids-mi                 NaT   \n",
       "1     Realtor.com  middlesex-county-nj 2017-03-08 19:55:38   \n",
       "2     Realtor.com          sheridan-wy 2017-03-08 20:07:23   \n",
       "3      Zillow.com            palmbeach                 NaT   \n",
       "4     Realtor.com               boston 2017-03-08 20:08:24   \n",
       "\n",
       "  LR_LEAD_CREATE_DATE  APPLICATION_ID  \n",
       "0 2017-03-08 16:48:03               7  \n",
       "1 2017-03-08 16:23:57               4  \n",
       "2 2017-03-08 17:03:47               8  \n",
       "3 2017-03-08 16:30:10               9  \n",
       "4 2017-03-08 17:06:33               8  "
      ]
     },
     "execution_count": 10,
     "metadata": {},
     "output_type": "execute_result"
    }
   ],
   "source": [
    "df.head()"
   ]
  },
  {
   "cell_type": "code",
   "execution_count": 4,
   "metadata": {
    "collapsed": true
   },
   "outputs": [],
   "source": [
    "query = \"\"\" SELECT MIN(time_logged_in) AS time_in, client_id FROM session_log\n",
    "            WHERE time_logged_in > TO_DATE('01-JAN-17')\n",
    "            group by client_id \"\"\""
   ]
  },
  {
   "cell_type": "code",
   "execution_count": 5,
   "metadata": {},
   "outputs": [
    {
     "name": "stdout",
     "output_type": "stream",
     "text": [
      "The query took 2613.62 seconds (43.56 minutes). \n",
      "\n",
      "The query returned 5367051 rows. \t shape:  (5367051, 2) \n",
      "\n",
      "Results were saved to login.csv \n",
      "\n",
      "The following select statement was executed: \n",
      "  SELECT MIN(time_logged_in) AS time_in, client_id FROM session_log\n",
      "            WHERE time_logged_in > TO_DATE('01-JAN-17')\n",
      "            group by client_id  \n",
      "\n",
      "The following columns were returned: \n",
      " ['TIME_IN', 'CLIENT_ID'] \n",
      "\n"
     ]
    }
   ],
   "source": [
    "dt = sql2pd.stby_query(select=(query), file_name = \"login.csv\")"
   ]
  },
  {
   "cell_type": "code",
   "execution_count": 6,
   "metadata": {
    "collapsed": true
   },
   "outputs": [],
   "source": [
    "query = \"\"\" select listing_num, source, listing_price, listing_date, home_sq_feet, zip, \n",
    "          property_type, bedrooms, full_baths, year_built, state, city, latitude, longitude from bdr.mls_listing_inactive \"\"\""
   ]
  },
  {
   "cell_type": "code",
   "execution_count": 7,
   "metadata": {
    "scrolled": true
   },
   "outputs": [
    {
     "name": "stdout",
     "output_type": "stream",
     "text": [
      "The query took 6466.88 seconds (107.78 minutes). \n",
      "\n",
      "The query returned 8738713 rows. \t shape:  (8738713, 14) \n",
      "\n",
      "Results were saved to ca_ba_inactive.csv \n",
      "\n",
      "The following select statement was executed: \n",
      "  select listing_num, source, listing_price, listing_date, home_sq_feet, zip, \n",
      "          property_type, bedrooms, full_baths, year_built, state, city, latitude, longitude from bdr.mls_listing_inactive  \n",
      "\n",
      "The following columns were returned: \n",
      " ['LISTING_NUM', 'SOURCE', 'LISTING_PRICE', 'LISTING_DATE', 'HOME_SQ_FEET', 'ZIP', 'PROPERTY_TYPE', 'BEDROOMS', 'FULL_BATHS', 'YEAR_BUILT', 'STATE', 'CITY', 'LATITUDE', 'LONGITUDE'] \n",
      "\n"
     ]
    }
   ],
   "source": [
    "dm = sql2pd.stby_query(select=(query), file_name = \"ca_ba_inactive.csv\")"
   ]
  },
  {
   "cell_type": "code",
   "execution_count": 4,
   "metadata": {
    "collapsed": true
   },
   "outputs": [],
   "source": [
    "query = \"\"\" select listing_num, source, listing_price, listing_date, home_sq_feet, zip, \n",
    "          property_type, bedrooms, full_baths, year_built, state, city, latitude, longitude from bdr.mls_listing \"\"\""
   ]
  },
  {
   "cell_type": "code",
   "execution_count": 5,
   "metadata": {
    "scrolled": true
   },
   "outputs": [
    {
     "name": "stdout",
     "output_type": "stream",
     "text": [
      "The query took 435.44 seconds (7.26 minutes). \n",
      "\n",
      "The query returned 923381 rows. \t shape:  (923381, 14) \n",
      "\n",
      "Results were saved to ca_ba_active.csv \n",
      "\n",
      "The following select statement was executed: \n",
      "  select listing_num, source, listing_price, listing_date, home_sq_feet, zip, \n",
      "          property_type, bedrooms, full_baths, year_built, state, city, latitude, longitude from bdr.mls_listing  \n",
      "\n",
      "The following columns were returned: \n",
      " ['LISTING_NUM', 'SOURCE', 'LISTING_PRICE', 'LISTING_DATE', 'HOME_SQ_FEET', 'ZIP', 'PROPERTY_TYPE', 'BEDROOMS', 'FULL_BATHS', 'YEAR_BUILT', 'STATE', 'CITY', 'LATITUDE', 'LONGITUDE'] \n",
      "\n"
     ]
    }
   ],
   "source": [
    "dm = sql2pd.stby_query(select=(query), file_name = \"ca_ba_active.csv\")"
   ]
  },
  {
   "cell_type": "code",
   "execution_count": 20,
   "metadata": {
    "scrolled": true
   },
   "outputs": [
    {
     "data": {
      "text/html": [
       "<div>\n",
       "<style>\n",
       "    .dataframe thead tr:only-child th {\n",
       "        text-align: right;\n",
       "    }\n",
       "\n",
       "    .dataframe thead th {\n",
       "        text-align: left;\n",
       "    }\n",
       "\n",
       "    .dataframe tbody tr th {\n",
       "        vertical-align: top;\n",
       "    }\n",
       "</style>\n",
       "<table border=\"1\" class=\"dataframe\">\n",
       "  <thead>\n",
       "    <tr style=\"text-align: right;\">\n",
       "      <th></th>\n",
       "      <th>LISTING_NUM</th>\n",
       "      <th>SOURCE</th>\n",
       "      <th>LISTING_PRICE</th>\n",
       "      <th>LISTING_DATE</th>\n",
       "      <th>HOME_SQ_FEET</th>\n",
       "      <th>ZIP</th>\n",
       "      <th>PROPERTY_TYPE</th>\n",
       "      <th>BEDROOMS</th>\n",
       "      <th>FULL_BATHS</th>\n",
       "      <th>YEAR_BUILT</th>\n",
       "      <th>STATE</th>\n",
       "      <th>CITY</th>\n",
       "      <th>PROPERTY_TYPE</th>\n",
       "    </tr>\n",
       "  </thead>\n",
       "  <tbody>\n",
       "    <tr>\n",
       "      <th>0</th>\n",
       "      <td>18018383</td>\n",
       "      <td>MFMLS</td>\n",
       "      <td>314444</td>\n",
       "      <td>NaT</td>\n",
       "      <td>1247.0</td>\n",
       "      <td>95667</td>\n",
       "      <td>SFR</td>\n",
       "      <td>4</td>\n",
       "      <td>2</td>\n",
       "      <td>1997.0</td>\n",
       "      <td>CA</td>\n",
       "      <td>Placerville</td>\n",
       "      <td>SFR</td>\n",
       "    </tr>\n",
       "    <tr>\n",
       "      <th>1</th>\n",
       "      <td>21724570</td>\n",
       "      <td>CABAREIS</td>\n",
       "      <td>729000</td>\n",
       "      <td>2017-10-19</td>\n",
       "      <td>2564.0</td>\n",
       "      <td>94510</td>\n",
       "      <td>SFR</td>\n",
       "      <td>5</td>\n",
       "      <td>3</td>\n",
       "      <td>1969.0</td>\n",
       "      <td>CA</td>\n",
       "      <td>Benicia</td>\n",
       "      <td>SFR</td>\n",
       "    </tr>\n",
       "    <tr>\n",
       "      <th>2</th>\n",
       "      <td>17055107</td>\n",
       "      <td>MFMLS</td>\n",
       "      <td>930000</td>\n",
       "      <td>NaT</td>\n",
       "      <td>3504.0</td>\n",
       "      <td>95762</td>\n",
       "      <td>SFR</td>\n",
       "      <td>4</td>\n",
       "      <td>3</td>\n",
       "      <td>1992.0</td>\n",
       "      <td>CA</td>\n",
       "      <td>El Dorado Hills</td>\n",
       "      <td>SFR</td>\n",
       "    </tr>\n",
       "    <tr>\n",
       "      <th>3</th>\n",
       "      <td>21728361</td>\n",
       "      <td>CABAREIS</td>\n",
       "      <td>1348000</td>\n",
       "      <td>2017-12-19</td>\n",
       "      <td>2200.0</td>\n",
       "      <td>95404</td>\n",
       "      <td>SFR</td>\n",
       "      <td>3</td>\n",
       "      <td>2</td>\n",
       "      <td>1890.0</td>\n",
       "      <td>CA</td>\n",
       "      <td>Santa Rosa</td>\n",
       "      <td>SFR</td>\n",
       "    </tr>\n",
       "    <tr>\n",
       "      <th>4</th>\n",
       "      <td>133281</td>\n",
       "      <td>CA_TCMLS</td>\n",
       "      <td>425000</td>\n",
       "      <td>2017-09-17</td>\n",
       "      <td>2100.0</td>\n",
       "      <td>93265</td>\n",
       "      <td>SFR</td>\n",
       "      <td>3</td>\n",
       "      <td>0</td>\n",
       "      <td>1985.0</td>\n",
       "      <td>CA</td>\n",
       "      <td>Ponderosa</td>\n",
       "      <td>SFR</td>\n",
       "    </tr>\n",
       "  </tbody>\n",
       "</table>\n",
       "</div>"
      ],
      "text/plain": [
       "  LISTING_NUM    SOURCE  LISTING_PRICE LISTING_DATE  HOME_SQ_FEET    ZIP  \\\n",
       "0    18018383     MFMLS         314444          NaT        1247.0  95667   \n",
       "1    21724570  CABAREIS         729000   2017-10-19        2564.0  94510   \n",
       "2    17055107     MFMLS         930000          NaT        3504.0  95762   \n",
       "3    21728361  CABAREIS        1348000   2017-12-19        2200.0  95404   \n",
       "4      133281  CA_TCMLS         425000   2017-09-17        2100.0  93265   \n",
       "\n",
       "  PROPERTY_TYPE  BEDROOMS  FULL_BATHS  YEAR_BUILT STATE             CITY  \\\n",
       "0           SFR         4           2      1997.0    CA      Placerville   \n",
       "1           SFR         5           3      1969.0    CA          Benicia   \n",
       "2           SFR         4           3      1992.0    CA  El Dorado Hills   \n",
       "3           SFR         3           2      1890.0    CA       Santa Rosa   \n",
       "4           SFR         3           0      1985.0    CA        Ponderosa   \n",
       "\n",
       "  PROPERTY_TYPE  \n",
       "0           SFR  \n",
       "1           SFR  \n",
       "2           SFR  \n",
       "3           SFR  \n",
       "4           SFR  "
      ]
     },
     "execution_count": 20,
     "metadata": {},
     "output_type": "execute_result"
    }
   ],
   "source": [
    "dm.head()"
   ]
  },
  {
   "cell_type": "code",
   "execution_count": 8,
   "metadata": {
    "collapsed": true
   },
   "outputs": [],
   "source": [
    "query = \"\"\" SELECT al.client_id, al.listing_num, al.postal_code, al.mls_source, al.client_notes FROM\n",
    "    (SELECT client_id, MIN(create_date) AS home_date FROM home_info_request\n",
    "    WHERE create_date > TO_DATE('01-JAN-17') \n",
    "    GROUP BY CLIENT_ID) cl\n",
    "    \n",
    "    LEFT JOIN\n",
    "    \n",
    "    (SELECT * FROM home_info_request) al\n",
    "    on cl.client_id = al.client_id AND cl.home_date = al.create_date \"\"\""
   ]
  },
  {
   "cell_type": "code",
   "execution_count": 9,
   "metadata": {},
   "outputs": [
    {
     "name": "stdout",
     "output_type": "stream",
     "text": [
      "The query took 1196.93 seconds (19.95 minutes). \n",
      "\n",
      "The query returned 2144435 rows. \t shape:  (2144435, 5) \n",
      "\n",
      "Results were saved to home_info.csv \n",
      "\n",
      "The following select statement was executed: \n",
      "  SELECT al.client_id, al.listing_num, al.postal_code, al.mls_source, al.client_notes FROM\n",
      "    (SELECT client_id, MIN(create_date) AS home_date FROM home_info_request\n",
      "    WHERE create_date > TO_DATE('01-JAN-17') \n",
      "    GROUP BY CLIENT_ID) cl\n",
      "    \n",
      "    LEFT JOIN\n",
      "    \n",
      "    (SELECT * FROM home_info_request) al\n",
      "    on cl.client_id = al.client_id AND cl.home_date = al.create_date  \n",
      "\n",
      "The following columns were returned: \n",
      " ['CLIENT_ID', 'LISTING_NUM', 'POSTAL_CODE', 'MLS_SOURCE', 'CLIENT_NOTES'] \n",
      "\n"
     ]
    }
   ],
   "source": [
    "di = sql2pd.stby_query(select=(query), file_name = \"home_info.csv\")"
   ]
  },
  {
   "cell_type": "code",
   "execution_count": null,
   "metadata": {
    "collapsed": true
   },
   "outputs": [],
   "source": []
  }
 ],
 "metadata": {
  "kernelspec": {
   "display_name": "Python 3",
   "language": "python",
   "name": "python3"
  },
  "language_info": {
   "codemirror_mode": {
    "name": "ipython",
    "version": 3
   },
   "file_extension": ".py",
   "mimetype": "text/x-python",
   "name": "python",
   "nbconvert_exporter": "python",
   "pygments_lexer": "ipython3",
   "version": "3.6.3"
  }
 },
 "nbformat": 4,
 "nbformat_minor": 2
}
