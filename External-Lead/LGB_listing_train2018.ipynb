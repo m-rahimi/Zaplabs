{
 "cells": [
  {
   "cell_type": "code",
   "execution_count": 1,
   "metadata": {
    "collapsed": true
   },
   "outputs": [],
   "source": [
    "import numpy as np\n",
    "import pandas as pd"
   ]
  },
  {
   "cell_type": "code",
   "execution_count": 2,
   "metadata": {
    "collapsed": true
   },
   "outputs": [],
   "source": [
    "import matplotlib.pyplot as plt\n",
    "import seaborn as sns\n",
    "color = sns.color_palette()\n",
    "\n",
    "%matplotlib inline"
   ]
  },
  {
   "cell_type": "code",
   "execution_count": 3,
   "metadata": {
    "collapsed": true
   },
   "outputs": [],
   "source": [
    "import sys\n",
    "sys.path.insert(0, '/Users/mrahimi/Kaggle/module/')\n",
    "import Plot\n",
    "import xgb\n",
    "pl = Plot.Plot()\n",
    "#import sql2pd"
   ]
  },
  {
   "cell_type": "code",
   "execution_count": 4,
   "metadata": {
    "collapsed": true
   },
   "outputs": [],
   "source": [
    "import lightgbm as lgb\n",
    "import pandas as pd\n",
    "from skopt.space import Real, Integer\n",
    "from skopt.utils import use_named_args\n",
    "from skopt import gp_minimize\n",
    "from skopt.plots import plot_convergence\n",
    "import matplotlib.pyplot as plt\n",
    "import seaborn as sns\n",
    "import warnings\n",
    "from tqdm import tqdm\n",
    "\n",
    "color = sns.color_palette()\n",
    "\n",
    "class LGB(object):\n",
    "    def __init__(self, num_boost_round=10, objective=None, metric='None', feval=None, fobj=None, **kwargs):\n",
    "        self.clf = None\n",
    "        self.grid_params = None\n",
    "        self.result = None\n",
    "        self.grid_list = []\n",
    "        self.feval = feval\n",
    "        self.fobj = fobj\n",
    "        self.num_boost_round = num_boost_round\n",
    "        self.params = kwargs\n",
    "        if not fobj:\n",
    "            if objective:\n",
    "                print(\"Built a LightGBM with defiend objective function\")\n",
    "                self.params.update({'boosting_type': 'gbdt', 'objective' : objective, 'metric' : metric})               \n",
    "            else:\n",
    "                print(\"Built a LightGBM with default objective\")\n",
    "                self.params.update({'boosting_type': 'gbdt', 'objective' : 'regression_l2', 'metric' : 'l1'})\n",
    "            \n",
    "        print(self.params)\n",
    "        \n",
    "    def set_params(self, print_out=True, **params):\n",
    "        if 'num_boost_round' in params:\n",
    "            self.num_boost_round = params.pop('num_boost_round')\n",
    "        self.params.update(params)\n",
    "        if print_out:\n",
    "            print(self.params)\n",
    "            \n",
    "    def set_params_scores(self, dt, N=1):\n",
    "        print(self.params)\n",
    "        params = dt.iloc[N].to_dict()\n",
    "        if 'score' in params:\n",
    "            del params['score']\n",
    "        if 'iterations' in params:\n",
    "            self.num_boost_round = params.pop('iterations') + 100\n",
    "        self.params.update(params)\n",
    "        print(self.params)\n",
    "        \n",
    "    def set_params_dic(self, dic):\n",
    "        if 'num_boost_round' in dic:\n",
    "            self.num_boost_round = dic.pop('num_boost_round')\n",
    "        self.params.update(dic)\n",
    "        print(self.params)\n",
    "        \n",
    "    def fit(self, X, y, num_boost_round=None, categorical=None):\n",
    "        num_boost_round = num_boost_round or self.num_boost_round\n",
    "        dtrain = lgb.Dataset(X, label=y, categorical_feature=categorical)\n",
    "        self.clf = lgb.train(params=self.params, train_set=dtrain, num_boost_round=num_boost_round)\n",
    "        \n",
    "    def predict(self, X):\n",
    "        return self.clf.predict(X)\n",
    "    \n",
    "    def get_params(self, deep=True):\n",
    "        return self.params\n",
    "\n",
    "    def get_importance(self):\n",
    "        importance = {}\n",
    "        for key, val in zip(self.clf.feature_name(), self.clf.feature_importance()):\n",
    "            importance[key] = val\n",
    "        return importance\n",
    "\n",
    "    def plot_importance(self, N = 10):\n",
    "        importance = {}\n",
    "        for key, val in zip(self.clf.feature_name(), self.clf.feature_importance()):\n",
    "            importance[key] = val\n",
    "\n",
    "        import operator\n",
    "        importance = sorted(importance.items(), key=operator.itemgetter(1))\n",
    "\n",
    "        importance_df = pd.DataFrame(importance, columns=['feature', 'fscore'])\n",
    "        importance_df['fscore'] = importance_df['fscore'] / importance_df['fscore'].sum()\n",
    "\n",
    "        plt.figure()\n",
    "        importance_df[-N:].plot(kind='barh', x='feature', y='fscore', legend=False, figsize=(10, 5))\n",
    "        plt.title('XGBoost Feature Importance')\n",
    "        plt.xlabel('relative importance')\n",
    "        plt.ylabel('')\n",
    "        plt.show()\n",
    "    \n",
    "    def fit_eval(self, X, y, X_test, y_test, verbose_eval = False, num_boost_round = None, early_stopping = 5,\n",
    "                 categorical=None, print_out=False):\n",
    "        num_boost_round = num_boost_round or self.num_boost_round\n",
    "        dtrain = lgb.Dataset(X, label=y, categorical_feature=categorical)\n",
    "        dtest = lgb.Dataset(X_test, y_test, categorical_feature=categorical, reference=dtrain)\n",
    "        \n",
    "        if self.feval == None:\n",
    "            self.clf = lgb.train(params = self.params, train_set = dtrain, num_boost_round = num_boost_round,\n",
    "                             valid_sets = [dtrain, dtest], valid_names = ['train', 'valid'],\n",
    "                             verbose_eval = verbose_eval,\n",
    "                             early_stopping_rounds = early_stopping)\n",
    "        else:\n",
    "            self.params.update({'metric': 'None'})\n",
    "            self.clf = lgb.train(params = self.params, train_set = dtrain, num_boost_round = num_boost_round,\n",
    "                             valid_sets = [dtrain, dtest], valid_names = ['train', 'valid'],\n",
    "                             verbose_eval = verbose_eval,\n",
    "#                             feval = self.evalerror, \n",
    "                             early_stopping_rounds = early_stopping)\n",
    "\n",
    "        if print_out:\n",
    "            print(\"Number of iteration: \", self.clf.best_iteration, \" Score: \", self.clf.best_score['valid'])\n",
    "            return\n",
    "        else:\n",
    "            return self.clf.best_score['valid'][list(self.clf.best_score['valid'].keys())[0]]\n",
    "        \n",
    "    def fit_cv(self, X, y, cv, verbose_eval = False, num_boost_round = None, early_stopping = 5,\n",
    "                 print_out=False):\n",
    "        \n",
    "        num_boost_round = num_boost_round or self.num_boost_round\n",
    "        scores = []\n",
    "        for i, (train_index, test_index) in enumerate(cv.split(X, y)):\n",
    "            dtrain = lgb.Dataset(X[train_index], label=y[train_index])\n",
    "            dtest = lgb.Dataset(X[test_index], label=y[test_index])\n",
    "\n",
    "            if self.feval == None:\n",
    "                self.clf = lgb.train(params = self.params, train_set = dtrain, num_boost_round = num_boost_round,\n",
    "                             valid_sets = [dtrain, dtest], valid_names = ['train', 'valid'],\n",
    "                             verbose_eval = verbose_eval,\n",
    "                             early_stopping_rounds = early_stopping)\n",
    "            else:\n",
    "                self.params.update({'metric': 'None'})\n",
    "                self.clf = lgb.train(params = self.params, train_set = dtrain, num_boost_round = num_boost_round,\n",
    "                             valid_sets = [dtrain, dtest], valid_names = ['train', 'valid'],\n",
    "                             verbose_eval = verbose_eval,\n",
    "#                             feval = self.evalerror, \n",
    "                             early_stopping_rounds = early_stopping)\n",
    "            \n",
    "            scores.append(self.clf.best_score['valid'][list(self.clf.best_score['valid'].keys())[0]])\n",
    "            \n",
    "            if print_out:\n",
    "                print(\"Kfold: \", i, \"Number of iteration: \", self.clf.best_iteration, \" Score: \", self.clf.best_score['valid'])\n",
    "\n",
    "        if not print_out:\n",
    "            return np.mean(scores)\n",
    "\n",
    "        \n",
    "    def grid(self, keys, comb, it=0):\n",
    "        if len(keys) == it:\n",
    "            return\n",
    "\n",
    "        for x in self.grid_params[keys[it]]:\n",
    "            comb.append(x)\n",
    "            self.grid(keys, comb, it+1)\n",
    "            if len(comb) == len(keys):\n",
    "                self.grid_list.append(comb[:])\n",
    "            comb.pop()\n",
    "    \n",
    "    def make_grid(self, **kwargs):\n",
    "        self.grid_list = []\n",
    "        self.grid_params = kwargs\n",
    "        print(self.params)\n",
    "        print(self.grid_params)\n",
    "        self.grid(list(self.grid_params.keys()), [])\n",
    "        print(\"Number of iteration for Optimization: \", len(self.grid_list))\n",
    "        \n",
    "    def optimization(self, X, y, X_test, y_test, verbose_eval = False, num_boost_round = None, \n",
    "                     early_stopping = 2, categorical=None):\n",
    "        num_boost_round = num_boost_round or self.num_boost_round\n",
    "        dtrain = lgb.Dataset(X, label=y, categorical_feature=categorical, free_raw_data=False)\n",
    "        dtest = lgb.Dataset(X_test, y_test, categorical_feature=categorical, reference=dtrain, free_raw_data=False)\n",
    "\n",
    "        col = list(self.grid_params.keys()) + ['iterations', 'score']\n",
    "        self.result = pd.DataFrame(columns=col)\n",
    "\n",
    "        for i in tqdm(range(len(self.grid_list))):\n",
    "            temp = {}\n",
    "            for j, key in enumerate(self.grid_params.keys()):\n",
    "                temp[key] = self.grid_list[i][j]\n",
    "            temp.update(self.params)\n",
    "\n",
    "            if self.feval == None:\n",
    "                self.clf = lgb.train(params = temp, train_set = dtrain, num_boost_round = num_boost_round,\n",
    "                                 valid_sets = [dtest], valid_names = ['valid'],\n",
    "                                 verbose_eval = verbose_eval,\n",
    "                                 early_stopping_rounds = early_stopping)\n",
    "            else:\n",
    "                self.params.update({'metric': 'None'})\n",
    "                self.clf = lgb.train(params = temp, train_set = dtrain, num_boost_round = num_boost_round,\n",
    "                                 valid_sets = [dtrain, dtest], valid_names = ['train', 'valid'],\n",
    "                                 verbose_eval = False,\n",
    "    #                             feval = self.evalerror, \n",
    "                                 early_stopping_rounds = early_stopping)\n",
    "            \n",
    "            score = self.clf.best_score['valid'][list(self.clf.best_score['valid'].keys())[0]]\n",
    "            self.result = self.result.append(pd.DataFrame([self.grid_list[i] + [self.clf.best_iteration, score]], columns=col))\n",
    "    \n",
    "    def scores(self, N=4):\n",
    "        return self.result.sort_values(\"score\")[:N]\n",
    "    \n",
    "    def bayesian(self, X, y, X_test=None, y_test=None, cv=None, nstopping = 5, ncalls = 10, seed=0,\n",
    "                 warrning=False, **kwargs):\n",
    "        if not warrning:\n",
    "            print(\"Ignore UserWarning\")\n",
    "            warnings.filterwarnings(\"ignore\")\n",
    "        if cv:\n",
    "            print(\"CV optimization\")\n",
    "        print(kwargs)\n",
    "        space = []\n",
    "        for key, val in kwargs.items():\n",
    "            if key == \"learning_rate\":\n",
    "                space.append(Real(val[0], val[1], \"log-uniform\", name='learning_rate'))\n",
    "            elif key == \"num_leaves\":\n",
    "                space.append(Integer(val[0], val[1], name='num_leaves'))\n",
    "            elif key == 'subsample': \n",
    "                space.append(Real(val[0], val[1], \"uniform\", name='subsample'))\n",
    "            elif key == 'colsample_bytree': \n",
    "                space.append(Real(val[0], val[1], \"uniform\", name='colsample_bytree'))\n",
    "            elif key == \"reg_lambda\":\n",
    "                space.append(Real(val[0], val[1], \"uniform\", name='reg_lambda'))\n",
    "            elif key == \"reg_alpha\":\n",
    "                space.append(Real(val[0], val[1], \"uniform\", name='reg_alpha'))\n",
    "            elif key == \"min_split_gain\":\n",
    "                space.append(Real(val[0], val[1], \"uniform\", name='min_split_gain'))\n",
    "            elif key == \"min_child_samples\":\n",
    "                space.append(Integer(val[0], val[1], name='min_child_samples'))\n",
    "            elif key == \"scale_pos_weight\":\n",
    "                space.append(Integer(val[0], val[1], name='scale_pos_weight'))\n",
    "            else:\n",
    "                print(\"Error: Invalid parameter\")\n",
    "        \n",
    "        print(space)\n",
    "                \n",
    "                \n",
    "        @use_named_args(space)\n",
    "        def objective(**params):\n",
    "            self.set_params(print_out=False, **params)\n",
    "            \n",
    "            if cv:\n",
    "                return self.fit_cv(X, y, cv, verbose_eval = False, num_boost_round = self.num_boost_round, \n",
    "                                 early_stopping = nstopping)\n",
    "            else:\n",
    "                return self.fit_eval(X, y, X_test, y_test, verbose_eval = False, num_boost_round = self.num_boost_round, \n",
    "                                 early_stopping = nstopping)\n",
    "        \n",
    "\n",
    "        res_gp = gp_minimize(objective, space, n_calls = ncalls, random_state=seed)\n",
    "    \n",
    "        plot_convergence(res_gp)\n",
    "        \n",
    "        col = list(kwargs.keys()) + ['score']\n",
    "        self.result = pd.DataFrame(columns=col)\n",
    "        \n",
    "        for val, score in zip(res_gp.x_iters, res_gp.func_vals):\n",
    "            self.result = self.result.append(pd.DataFrame([val + [score]], columns=col))"
   ]
  },
  {
   "cell_type": "markdown",
   "metadata": {},
   "source": [
    "# READ"
   ]
  },
  {
   "cell_type": "code",
   "execution_count": 5,
   "metadata": {},
   "outputs": [
    {
     "data": {
      "text/plain": [
       "(36873, 26)"
      ]
     },
     "execution_count": 5,
     "metadata": {},
     "output_type": "execute_result"
    }
   ],
   "source": [
    "d8 = pd.read_csv(\"listing_lead.csv\")\n",
    "d8.shape"
   ]
  },
  {
   "cell_type": "code",
   "execution_count": 6,
   "metadata": {},
   "outputs": [
    {
     "data": {
      "text/plain": [
       "(36873, 26)"
      ]
     },
     "execution_count": 6,
     "metadata": {},
     "output_type": "execute_result"
    }
   ],
   "source": [
    "import copy\n",
    "df = copy.deepcopy(d8)\n",
    "df.shape"
   ]
  },
  {
   "cell_type": "code",
   "execution_count": 7,
   "metadata": {},
   "outputs": [
    {
     "data": {
      "text/html": [
       "<div>\n",
       "<style>\n",
       "    .dataframe thead tr:only-child th {\n",
       "        text-align: right;\n",
       "    }\n",
       "\n",
       "    .dataframe thead th {\n",
       "        text-align: left;\n",
       "    }\n",
       "\n",
       "    .dataframe tbody tr th {\n",
       "        vertical-align: top;\n",
       "    }\n",
       "</style>\n",
       "<table border=\"1\" class=\"dataframe\">\n",
       "  <thead>\n",
       "    <tr style=\"text-align: right;\">\n",
       "      <th></th>\n",
       "      <th>customer_id</th>\n",
       "      <th>customer_date</th>\n",
       "      <th>client_date</th>\n",
       "      <th>client_id</th>\n",
       "      <th>lr_website_name</th>\n",
       "      <th>metro</th>\n",
       "      <th>lr_lead_accept_date</th>\n",
       "      <th>lr_lead_create_date</th>\n",
       "      <th>application_id</th>\n",
       "      <th>lr_month</th>\n",
       "      <th>...</th>\n",
       "      <th>property_type</th>\n",
       "      <th>bedrooms</th>\n",
       "      <th>city</th>\n",
       "      <th>full_baths</th>\n",
       "      <th>home_sq_feet</th>\n",
       "      <th>listing_date</th>\n",
       "      <th>state</th>\n",
       "      <th>year_built</th>\n",
       "      <th>latitude</th>\n",
       "      <th>longitude</th>\n",
       "    </tr>\n",
       "  </thead>\n",
       "  <tbody>\n",
       "    <tr>\n",
       "      <th>0</th>\n",
       "      <td>36281009</td>\n",
       "      <td>2018-04-14 09:24:52</td>\n",
       "      <td>2018-04-14 09:24:52</td>\n",
       "      <td>42985209</td>\n",
       "      <td>Landwatch.com</td>\n",
       "      <td>pensacola</td>\n",
       "      <td>2018-04-14 12:26:55</td>\n",
       "      <td>2018-04-14 09:16:53</td>\n",
       "      <td>7</td>\n",
       "      <td>4</td>\n",
       "      <td>...</td>\n",
       "      <td>LAND</td>\n",
       "      <td>0.0</td>\n",
       "      <td>Gulf Breeze</td>\n",
       "      <td>0.0</td>\n",
       "      <td>NaN</td>\n",
       "      <td>2018-03-23</td>\n",
       "      <td>FL</td>\n",
       "      <td>NaN</td>\n",
       "      <td>30.402147</td>\n",
       "      <td>-87.001973</td>\n",
       "    </tr>\n",
       "    <tr>\n",
       "      <th>1</th>\n",
       "      <td>33400665</td>\n",
       "      <td>2018-01-02 15:04:33</td>\n",
       "      <td>2018-01-02 15:04:33</td>\n",
       "      <td>39468219</td>\n",
       "      <td>Realtor.com</td>\n",
       "      <td>anniston-al</td>\n",
       "      <td>2018-01-02 18:03:51</td>\n",
       "      <td>2018-01-02 14:52:53</td>\n",
       "      <td>4</td>\n",
       "      <td>1</td>\n",
       "      <td>...</td>\n",
       "      <td>SFR</td>\n",
       "      <td>3.0</td>\n",
       "      <td>Oxford</td>\n",
       "      <td>2.0</td>\n",
       "      <td>1320.0</td>\n",
       "      <td>2017-08-17</td>\n",
       "      <td>AL</td>\n",
       "      <td>1966.0</td>\n",
       "      <td>33.591350</td>\n",
       "      <td>-85.822900</td>\n",
       "    </tr>\n",
       "    <tr>\n",
       "      <th>2</th>\n",
       "      <td>27469277</td>\n",
       "      <td>2017-04-21 11:26:06</td>\n",
       "      <td>2017-04-21 11:26:07</td>\n",
       "      <td>32427813</td>\n",
       "      <td>Realtor.com</td>\n",
       "      <td>adams-wi</td>\n",
       "      <td>2018-03-22 14:12:41</td>\n",
       "      <td>2018-02-06 06:46:03</td>\n",
       "      <td>8</td>\n",
       "      <td>2</td>\n",
       "      <td>...</td>\n",
       "      <td>SFR</td>\n",
       "      <td>2.0</td>\n",
       "      <td>Elroy</td>\n",
       "      <td>1.0</td>\n",
       "      <td>900.0</td>\n",
       "      <td>NaN</td>\n",
       "      <td>WI</td>\n",
       "      <td>NaN</td>\n",
       "      <td>43.750418</td>\n",
       "      <td>-90.273289</td>\n",
       "    </tr>\n",
       "    <tr>\n",
       "      <th>3</th>\n",
       "      <td>36244001</td>\n",
       "      <td>2018-04-12 17:33:20</td>\n",
       "      <td>2018-04-12 17:33:20</td>\n",
       "      <td>42942143</td>\n",
       "      <td>Zillow.com</td>\n",
       "      <td>madison-wi</td>\n",
       "      <td>2018-04-12 20:32:43</td>\n",
       "      <td>2018-04-12 17:23:29</td>\n",
       "      <td>8</td>\n",
       "      <td>4</td>\n",
       "      <td>...</td>\n",
       "      <td>SFR</td>\n",
       "      <td>3.0</td>\n",
       "      <td>Mount Horeb</td>\n",
       "      <td>3.0</td>\n",
       "      <td>2370.0</td>\n",
       "      <td>NaN</td>\n",
       "      <td>WI</td>\n",
       "      <td>1998.0</td>\n",
       "      <td>43.000251</td>\n",
       "      <td>-89.746580</td>\n",
       "    </tr>\n",
       "    <tr>\n",
       "      <th>4</th>\n",
       "      <td>35188435</td>\n",
       "      <td>2018-03-06 15:31:02</td>\n",
       "      <td>2018-03-06 15:31:02</td>\n",
       "      <td>41645051</td>\n",
       "      <td>Zillow.com</td>\n",
       "      <td>akron-oh</td>\n",
       "      <td>2018-03-06 18:30:20</td>\n",
       "      <td>2018-03-06 15:06:09</td>\n",
       "      <td>7</td>\n",
       "      <td>3</td>\n",
       "      <td>...</td>\n",
       "      <td>SFR</td>\n",
       "      <td>4.0</td>\n",
       "      <td>New Franklin</td>\n",
       "      <td>2.0</td>\n",
       "      <td>2432.0</td>\n",
       "      <td>2018-02-23</td>\n",
       "      <td>OH</td>\n",
       "      <td>1880.0</td>\n",
       "      <td>40.940370</td>\n",
       "      <td>-81.569161</td>\n",
       "    </tr>\n",
       "  </tbody>\n",
       "</table>\n",
       "<p>5 rows × 26 columns</p>\n",
       "</div>"
      ],
      "text/plain": [
       "   customer_id        customer_date          client_date  client_id  \\\n",
       "0     36281009  2018-04-14 09:24:52  2018-04-14 09:24:52   42985209   \n",
       "1     33400665  2018-01-02 15:04:33  2018-01-02 15:04:33   39468219   \n",
       "2     27469277  2017-04-21 11:26:06  2017-04-21 11:26:07   32427813   \n",
       "3     36244001  2018-04-12 17:33:20  2018-04-12 17:33:20   42942143   \n",
       "4     35188435  2018-03-06 15:31:02  2018-03-06 15:31:02   41645051   \n",
       "\n",
       "  lr_website_name        metro  lr_lead_accept_date  lr_lead_create_date  \\\n",
       "0   Landwatch.com    pensacola  2018-04-14 12:26:55  2018-04-14 09:16:53   \n",
       "1     Realtor.com  anniston-al  2018-01-02 18:03:51  2018-01-02 14:52:53   \n",
       "2     Realtor.com     adams-wi  2018-03-22 14:12:41  2018-02-06 06:46:03   \n",
       "3      Zillow.com   madison-wi  2018-04-12 20:32:43  2018-04-12 17:23:29   \n",
       "4      Zillow.com     akron-oh  2018-03-06 18:30:20  2018-03-06 15:06:09   \n",
       "\n",
       "   application_id  lr_month    ...     property_type bedrooms          city  \\\n",
       "0               7         4    ...              LAND      0.0   Gulf Breeze   \n",
       "1               4         1    ...               SFR      3.0        Oxford   \n",
       "2               8         2    ...               SFR      2.0         Elroy   \n",
       "3               8         4    ...               SFR      3.0   Mount Horeb   \n",
       "4               7         3    ...               SFR      4.0  New Franklin   \n",
       "\n",
       "  full_baths home_sq_feet  listing_date state  year_built   latitude  \\\n",
       "0        0.0          NaN    2018-03-23    FL         NaN  30.402147   \n",
       "1        2.0       1320.0    2017-08-17    AL      1966.0  33.591350   \n",
       "2        1.0        900.0           NaN    WI         NaN  43.750418   \n",
       "3        3.0       2370.0           NaN    WI      1998.0  43.000251   \n",
       "4        2.0       2432.0    2018-02-23    OH      1880.0  40.940370   \n",
       "\n",
       "   longitude  \n",
       "0 -87.001973  \n",
       "1 -85.822900  \n",
       "2 -90.273289  \n",
       "3 -89.746580  \n",
       "4 -81.569161  \n",
       "\n",
       "[5 rows x 26 columns]"
      ]
     },
     "execution_count": 7,
     "metadata": {},
     "output_type": "execute_result"
    }
   ],
   "source": [
    "df.head()"
   ]
  },
  {
   "cell_type": "code",
   "execution_count": 8,
   "metadata": {},
   "outputs": [
    {
     "data": {
      "text/plain": [
       "Index(['customer_id', 'customer_date', 'client_date', 'client_id',\n",
       "       'lr_website_name', 'metro', 'lr_lead_accept_date',\n",
       "       'lr_lead_create_date', 'application_id', 'lr_month', 'time_in',\n",
       "       'listing_num', 'postal_code', 'mls_source', 'mls_table',\n",
       "       'listing_price', 'property_type', 'bedrooms', 'city', 'full_baths',\n",
       "       'home_sq_feet', 'listing_date', 'state', 'year_built', 'latitude',\n",
       "       'longitude'],\n",
       "      dtype='object')"
      ]
     },
     "execution_count": 8,
     "metadata": {},
     "output_type": "execute_result"
    }
   ],
   "source": [
    "df.columns"
   ]
  },
  {
   "cell_type": "code",
   "execution_count": 9,
   "metadata": {
    "collapsed": true
   },
   "outputs": [],
   "source": [
    "df[\"target\"] = 0\n",
    "df.loc[~df[\"time_in\"].isnull(), \"target\"] = 1"
   ]
  },
  {
   "cell_type": "code",
   "execution_count": 10,
   "metadata": {},
   "outputs": [
    {
     "name": "stdout",
     "output_type": "stream",
     "text": [
      "Total data:  36873\n",
      "# Customer:  31731\n",
      "# Zap Lead:  5142\n"
     ]
    }
   ],
   "source": [
    "print(\"Total data: \", df.shape[0])\n",
    "print(\"# Customer: \", sum(df.target == 0))\n",
    "print(\"# Zap Lead: \", sum(df.target == 1))"
   ]
  },
  {
   "cell_type": "code",
   "execution_count": 11,
   "metadata": {},
   "outputs": [
    {
     "name": "stdout",
     "output_type": "stream",
     "text": [
      "persentage of the customer who became Lead:  13.9451631275\n"
     ]
    }
   ],
   "source": [
    "print(\"persentage of the customer who became Lead: \", (sum(df.target == 1)/df.shape[0])*100)"
   ]
  },
  {
   "cell_type": "code",
   "execution_count": 12,
   "metadata": {
    "collapsed": true
   },
   "outputs": [],
   "source": [
    "features = ['lr_website_name', 'application_id', 'postal_code', \n",
    "            'listing_price', 'property_type', 'bedrooms', 'full_baths',\n",
    "            'home_sq_feet', 'year_built', 'metro', 'latitude', 'longitude']"
   ]
  },
  {
   "cell_type": "code",
   "execution_count": 13,
   "metadata": {},
   "outputs": [
    {
     "data": {
      "text/plain": [
       "lr_website_name     object\n",
       "application_id       int64\n",
       "postal_code        float64\n",
       "listing_price      float64\n",
       "property_type       object\n",
       "bedrooms           float64\n",
       "full_baths         float64\n",
       "home_sq_feet       float64\n",
       "year_built         float64\n",
       "metro               object\n",
       "latitude           float64\n",
       "longitude          float64\n",
       "dtype: object"
      ]
     },
     "execution_count": 13,
     "metadata": {},
     "output_type": "execute_result"
    }
   ],
   "source": [
    "target = df[\"target\"]\n",
    "\n",
    "df = df[features]\n",
    "df.dtypes"
   ]
  },
  {
   "cell_type": "code",
   "execution_count": 14,
   "metadata": {},
   "outputs": [
    {
     "name": "stdout",
     "output_type": "stream",
     "text": [
      "convert object features to int\n"
     ]
    }
   ],
   "source": [
    "# convert object features to int\n",
    "from sklearn.preprocessing import LabelEncoder\n",
    "print(\"convert object features to int\")\n",
    "for c in ['lr_website_name', 'property_type', 'metro']:\n",
    "    df[c] = df[c].fillna(-2)\n",
    "    lbl = LabelEncoder()\n",
    "    lbl.fit(list(df[c].values))\n",
    "    df[c] = lbl.transform(list(df[c].values))"
   ]
  },
  {
   "cell_type": "code",
   "execution_count": 15,
   "metadata": {},
   "outputs": [
    {
     "name": "stdout",
     "output_type": "stream",
     "text": [
      "(31845, 12)\n"
     ]
    }
   ],
   "source": [
    "X_train = df[d8.lr_month < 4]; y_train = target[d8.lr_month < 4]\n",
    "print(X_train.shape)"
   ]
  },
  {
   "cell_type": "code",
   "execution_count": 16,
   "metadata": {},
   "outputs": [
    {
     "data": {
      "text/plain": [
       "(5028, 12)"
      ]
     },
     "execution_count": 16,
     "metadata": {},
     "output_type": "execute_result"
    }
   ],
   "source": [
    "X_test = df[d8.lr_month == 4]; y_test = target[d8.lr_month == 4]\n",
    "X_test.shape"
   ]
  },
  {
   "cell_type": "markdown",
   "metadata": {},
   "source": [
    "# Optimization"
   ]
  },
  {
   "cell_type": "code",
   "execution_count": 17,
   "metadata": {
    "collapsed": true
   },
   "outputs": [],
   "source": [
    "categorical_features = ['lr_website_name', 'property_type', 'metro', 'postal_code', 'application_id']"
   ]
  },
  {
   "cell_type": "code",
   "execution_count": 18,
   "metadata": {
    "scrolled": true
   },
   "outputs": [
    {
     "name": "stdout",
     "output_type": "stream",
     "text": [
      "Built a LightGBM with defiend objective function\n",
      "{'boosting_type': 'gbdt', 'objective': 'binary', 'metric': 'auc'}\n"
     ]
    }
   ],
   "source": [
    "opt = LGB(objective = 'binary', metric = 'auc')"
   ]
  },
  {
   "cell_type": "code",
   "execution_count": 19,
   "metadata": {},
   "outputs": [
    {
     "name": "stdout",
     "output_type": "stream",
     "text": [
      "{'boosting_type': 'gbdt', 'objective': 'binary', 'metric': 'auc', 'max_depth': -1, 'min_child_samples': 20, 'max_bin': 255, 'subsample_freq': 1, 'min_child_weight': 5, 'subsample_for_bin': 200000, 'min_split_gain': 0, 'reg_alpha': 0, 'reg_lambda': 0}\n"
     ]
    }
   ],
   "source": [
    "lgb_params = {\n",
    "#    'learning_rate': 0.05,\n",
    "#    'num_leaves': 6,  # we should let it be smaller than 2^(max_depth)\n",
    "    'max_depth': -1,  # -1 means no limit\n",
    "    'min_child_samples': 20,  # Minimum number of data need in a child(min_data_in_leaf)\n",
    "    'max_bin': 255,  # Number of bucketed bin for feature values\n",
    "#    'subsample': 0.9,  # Subsample ratio of the training instance.\n",
    "    'subsample_freq': 1,  # frequence of subsample, <=0 means no enable\n",
    "#    'colsample_bytree': 0.9,  # Subsample ratio of columns when constructing each tree.\n",
    "    'min_child_weight': 5,  # Minimum sum of instance weight(hessian) needed in a child(leaf)\n",
    "    'subsample_for_bin': 200000,  # Number of samples for constructing bin\n",
    "    'min_split_gain': 0,  # lambda_l1, lambda_l2 and min_gain_to_split to regularization\n",
    "    'reg_alpha': 0,  # L1 regularization term on weights\n",
    "    'reg_lambda': 0,  # L2 regularization term on weights\n",
    "#    'scale_pos_weight': 10\n",
    "}\n",
    "\n",
    "opt.set_params_dic(lgb_params)"
   ]
  },
  {
   "cell_type": "code",
   "execution_count": 20,
   "metadata": {
    "scrolled": true
   },
   "outputs": [
    {
     "name": "stdout",
     "output_type": "stream",
     "text": [
      "{'boosting_type': 'gbdt', 'objective': 'binary', 'metric': 'auc', 'max_depth': -1, 'min_child_samples': 20, 'max_bin': 255, 'subsample_freq': 1, 'min_child_weight': 5, 'subsample_for_bin': 200000, 'min_split_gain': 0, 'reg_alpha': 0, 'reg_lambda': 0}\n",
      "{'learning_rate': [0.05, 0.1], 'num_leaves': [6, 7, 8, 9], 'subsample': [0.5, 0.6, 0.7, 0.8, 0.9, 1.0], 'colsample_bytree': [0.5, 0.6, 0.7, 0.8, 0.9, 1.0], 'scale_pos_weight': [1, 2, 3, 4]}\n",
      "Number of iteration for Optimization:  1152\n"
     ]
    }
   ],
   "source": [
    "opt.make_grid(learning_rate = [0.05, 0.1], num_leaves = [x for x in range(6,10)],\n",
    "              subsample = [0.5, 0.6, 0.7, 0.8, 0.9, 1.0], colsample_bytree = [0.5, 0.6, 0.7, 0.8, 0.9, 1.0], \n",
    "              scale_pos_weight = [x for x in range(1,5)])"
   ]
  },
  {
   "cell_type": "code",
   "execution_count": 21,
   "metadata": {
    "scrolled": true
   },
   "outputs": [
    {
     "name": "stderr",
     "output_type": "stream",
     "text": [
      "  0%|          | 0/1152 [00:00<?, ?it/s]/Users/mrahimi/anaconda3/lib/python3.6/site-packages/lightgbm/basic.py:1036: UserWarning: Using categorical_feature in Dataset.\n",
      "  warnings.warn('Using categorical_feature in Dataset.')\n",
      "/Users/mrahimi/anaconda3/lib/python3.6/site-packages/lightgbm/basic.py:681: UserWarning: categorical_feature in param dict is overrided.\n",
      "  warnings.warn('categorical_feature in param dict is overrided.')\n",
      "100%|██████████| 1152/1152 [04:20<00:00,  4.43it/s]\n"
     ]
    }
   ],
   "source": [
    "opt.optimization(X_train, y_train, X_test, y_test, \n",
    "               num_boost_round=200, early_stopping=30, categorical=categorical_features)"
   ]
  },
  {
   "cell_type": "code",
   "execution_count": 22,
   "metadata": {},
   "outputs": [
    {
     "data": {
      "text/html": [
       "<div>\n",
       "<style>\n",
       "    .dataframe thead tr:only-child th {\n",
       "        text-align: right;\n",
       "    }\n",
       "\n",
       "    .dataframe thead th {\n",
       "        text-align: left;\n",
       "    }\n",
       "\n",
       "    .dataframe tbody tr th {\n",
       "        vertical-align: top;\n",
       "    }\n",
       "</style>\n",
       "<table border=\"1\" class=\"dataframe\">\n",
       "  <thead>\n",
       "    <tr style=\"text-align: right;\">\n",
       "      <th></th>\n",
       "      <th>learning_rate</th>\n",
       "      <th>num_leaves</th>\n",
       "      <th>subsample</th>\n",
       "      <th>colsample_bytree</th>\n",
       "      <th>scale_pos_weight</th>\n",
       "      <th>iterations</th>\n",
       "      <th>score</th>\n",
       "    </tr>\n",
       "  </thead>\n",
       "  <tbody>\n",
       "    <tr>\n",
       "      <th>0</th>\n",
       "      <td>0.05</td>\n",
       "      <td>9</td>\n",
       "      <td>0.6</td>\n",
       "      <td>0.5</td>\n",
       "      <td>4</td>\n",
       "      <td>30</td>\n",
       "      <td>0.723398</td>\n",
       "    </tr>\n",
       "    <tr>\n",
       "      <th>0</th>\n",
       "      <td>0.05</td>\n",
       "      <td>7</td>\n",
       "      <td>1.0</td>\n",
       "      <td>0.5</td>\n",
       "      <td>4</td>\n",
       "      <td>30</td>\n",
       "      <td>0.723408</td>\n",
       "    </tr>\n",
       "    <tr>\n",
       "      <th>0</th>\n",
       "      <td>0.10</td>\n",
       "      <td>7</td>\n",
       "      <td>0.7</td>\n",
       "      <td>0.5</td>\n",
       "      <td>2</td>\n",
       "      <td>30</td>\n",
       "      <td>0.723545</td>\n",
       "    </tr>\n",
       "    <tr>\n",
       "      <th>0</th>\n",
       "      <td>0.05</td>\n",
       "      <td>8</td>\n",
       "      <td>0.7</td>\n",
       "      <td>0.5</td>\n",
       "      <td>2</td>\n",
       "      <td>30</td>\n",
       "      <td>0.723550</td>\n",
       "    </tr>\n",
       "    <tr>\n",
       "      <th>0</th>\n",
       "      <td>0.05</td>\n",
       "      <td>7</td>\n",
       "      <td>0.7</td>\n",
       "      <td>0.5</td>\n",
       "      <td>2</td>\n",
       "      <td>30</td>\n",
       "      <td>0.723561</td>\n",
       "    </tr>\n",
       "    <tr>\n",
       "      <th>0</th>\n",
       "      <td>0.05</td>\n",
       "      <td>7</td>\n",
       "      <td>1.0</td>\n",
       "      <td>0.5</td>\n",
       "      <td>2</td>\n",
       "      <td>5</td>\n",
       "      <td>0.723630</td>\n",
       "    </tr>\n",
       "    <tr>\n",
       "      <th>0</th>\n",
       "      <td>0.05</td>\n",
       "      <td>9</td>\n",
       "      <td>0.7</td>\n",
       "      <td>0.5</td>\n",
       "      <td>3</td>\n",
       "      <td>31</td>\n",
       "      <td>0.723756</td>\n",
       "    </tr>\n",
       "    <tr>\n",
       "      <th>0</th>\n",
       "      <td>0.10</td>\n",
       "      <td>7</td>\n",
       "      <td>1.0</td>\n",
       "      <td>0.6</td>\n",
       "      <td>3</td>\n",
       "      <td>5</td>\n",
       "      <td>0.723904</td>\n",
       "    </tr>\n",
       "    <tr>\n",
       "      <th>0</th>\n",
       "      <td>0.05</td>\n",
       "      <td>7</td>\n",
       "      <td>0.6</td>\n",
       "      <td>0.5</td>\n",
       "      <td>4</td>\n",
       "      <td>33</td>\n",
       "      <td>0.723982</td>\n",
       "    </tr>\n",
       "    <tr>\n",
       "      <th>0</th>\n",
       "      <td>0.10</td>\n",
       "      <td>7</td>\n",
       "      <td>1.0</td>\n",
       "      <td>0.5</td>\n",
       "      <td>3</td>\n",
       "      <td>5</td>\n",
       "      <td>0.724100</td>\n",
       "    </tr>\n",
       "  </tbody>\n",
       "</table>\n",
       "</div>"
      ],
      "text/plain": [
       "   learning_rate num_leaves  subsample  colsample_bytree scale_pos_weight  \\\n",
       "0           0.05          9        0.6               0.5                4   \n",
       "0           0.05          7        1.0               0.5                4   \n",
       "0           0.10          7        0.7               0.5                2   \n",
       "0           0.05          8        0.7               0.5                2   \n",
       "0           0.05          7        0.7               0.5                2   \n",
       "0           0.05          7        1.0               0.5                2   \n",
       "0           0.05          9        0.7               0.5                3   \n",
       "0           0.10          7        1.0               0.6                3   \n",
       "0           0.05          7        0.6               0.5                4   \n",
       "0           0.10          7        1.0               0.5                3   \n",
       "\n",
       "  iterations     score  \n",
       "0         30  0.723398  \n",
       "0         30  0.723408  \n",
       "0         30  0.723545  \n",
       "0         30  0.723550  \n",
       "0         30  0.723561  \n",
       "0          5  0.723630  \n",
       "0         31  0.723756  \n",
       "0          5  0.723904  \n",
       "0         33  0.723982  \n",
       "0          5  0.724100  "
      ]
     },
     "execution_count": 22,
     "metadata": {},
     "output_type": "execute_result"
    }
   ],
   "source": [
    "opt.scores(-1).tail(10)"
   ]
  },
  {
   "cell_type": "code",
   "execution_count": 23,
   "metadata": {},
   "outputs": [
    {
     "data": {
      "text/plain": [
       "(1151, 7)"
      ]
     },
     "execution_count": 23,
     "metadata": {},
     "output_type": "execute_result"
    }
   ],
   "source": [
    "opt.scores(-1).shape"
   ]
  },
  {
   "cell_type": "markdown",
   "metadata": {},
   "source": [
    "# LGB"
   ]
  },
  {
   "cell_type": "code",
   "execution_count": 24,
   "metadata": {},
   "outputs": [
    {
     "name": "stdout",
     "output_type": "stream",
     "text": [
      "Built a LightGBM with defiend objective function\n",
      "{'boosting_type': 'gbdt', 'objective': 'binary', 'metric': 'auc'}\n"
     ]
    }
   ],
   "source": [
    "model = LGB(objective = 'binary', metric = 'auc')"
   ]
  },
  {
   "cell_type": "code",
   "execution_count": 25,
   "metadata": {},
   "outputs": [
    {
     "name": "stdout",
     "output_type": "stream",
     "text": [
      "{'boosting_type': 'gbdt', 'objective': 'binary', 'metric': 'auc', 'max_depth': -1, 'min_child_samples': 20, 'max_bin': 255, 'subsample_freq': 1, 'min_child_weight': 5, 'subsample_for_bin': 200000, 'min_split_gain': 0, 'reg_alpha': 0, 'reg_lambda': 0}\n"
     ]
    }
   ],
   "source": [
    "model.set_params_dic(lgb_params)"
   ]
  },
  {
   "cell_type": "code",
   "execution_count": 27,
   "metadata": {},
   "outputs": [
    {
     "name": "stdout",
     "output_type": "stream",
     "text": [
      "{'boosting_type': 'gbdt', 'objective': 'binary', 'metric': 'auc', 'max_depth': -1, 'min_child_samples': 20, 'max_bin': 255, 'subsample_freq': 1, 'min_child_weight': 5, 'subsample_for_bin': 200000, 'min_split_gain': 0, 'reg_alpha': 0, 'reg_lambda': 0, 'learning_rate': 0.10000000000000001, 'num_leaves': 7, 'subsample': 1.0, 'colsample_bytree': 0.5, 'scale_pos_weight': 3}\n",
      "{'boosting_type': 'gbdt', 'objective': 'binary', 'metric': 'auc', 'max_depth': -1, 'min_child_samples': 20, 'max_bin': 255, 'subsample_freq': 1, 'min_child_weight': 5, 'subsample_for_bin': 200000, 'min_split_gain': 0, 'reg_alpha': 0, 'reg_lambda': 0, 'learning_rate': 0.050000000000000003, 'num_leaves': 7, 'subsample': 0.59999999999999998, 'colsample_bytree': 0.5, 'scale_pos_weight': 4}\n"
     ]
    }
   ],
   "source": [
    "model.set_params_scores(opt.scores(-1), N=1149)"
   ]
  },
  {
   "cell_type": "code",
   "execution_count": 28,
   "metadata": {},
   "outputs": [
    {
     "name": "stderr",
     "output_type": "stream",
     "text": [
      "/Users/mrahimi/anaconda3/lib/python3.6/site-packages/lightgbm/basic.py:1036: UserWarning: Using categorical_feature in Dataset.\n",
      "  warnings.warn('Using categorical_feature in Dataset.')\n",
      "/Users/mrahimi/anaconda3/lib/python3.6/site-packages/lightgbm/basic.py:681: UserWarning: categorical_feature in param dict is overrided.\n",
      "  warnings.warn('categorical_feature in param dict is overrided.')\n"
     ]
    },
    {
     "name": "stdout",
     "output_type": "stream",
     "text": [
      "[1]\ttrain's auc: 0.705493\tvalid's auc: 0.685719\n",
      "Training until validation scores don't improve for 30 rounds.\n",
      "[2]\ttrain's auc: 0.711818\tvalid's auc: 0.711951\n",
      "[3]\ttrain's auc: 0.723244\tvalid's auc: 0.709707\n",
      "[4]\ttrain's auc: 0.720385\tvalid's auc: 0.712877\n",
      "[5]\ttrain's auc: 0.726832\tvalid's auc: 0.716412\n",
      "[6]\ttrain's auc: 0.729476\tvalid's auc: 0.714673\n",
      "[7]\ttrain's auc: 0.732119\tvalid's auc: 0.715177\n",
      "[8]\ttrain's auc: 0.733132\tvalid's auc: 0.715276\n",
      "[9]\ttrain's auc: 0.734911\tvalid's auc: 0.713672\n",
      "[10]\ttrain's auc: 0.737028\tvalid's auc: 0.712747\n",
      "[11]\ttrain's auc: 0.737564\tvalid's auc: 0.710189\n",
      "[12]\ttrain's auc: 0.739684\tvalid's auc: 0.713129\n",
      "[13]\ttrain's auc: 0.739796\tvalid's auc: 0.714854\n",
      "[14]\ttrain's auc: 0.739864\tvalid's auc: 0.714981\n",
      "[15]\ttrain's auc: 0.739451\tvalid's auc: 0.716685\n",
      "[16]\ttrain's auc: 0.739717\tvalid's auc: 0.718199\n",
      "[17]\ttrain's auc: 0.740432\tvalid's auc: 0.718691\n",
      "[18]\ttrain's auc: 0.74249\tvalid's auc: 0.719301\n",
      "[19]\ttrain's auc: 0.742303\tvalid's auc: 0.720058\n",
      "[20]\ttrain's auc: 0.743034\tvalid's auc: 0.720226\n",
      "[21]\ttrain's auc: 0.742833\tvalid's auc: 0.721276\n",
      "[22]\ttrain's auc: 0.743007\tvalid's auc: 0.720929\n",
      "[23]\ttrain's auc: 0.743073\tvalid's auc: 0.720815\n",
      "[24]\ttrain's auc: 0.743569\tvalid's auc: 0.720357\n",
      "[25]\ttrain's auc: 0.744203\tvalid's auc: 0.720904\n",
      "[26]\ttrain's auc: 0.744163\tvalid's auc: 0.721306\n",
      "[27]\ttrain's auc: 0.744238\tvalid's auc: 0.721571\n",
      "[28]\ttrain's auc: 0.744086\tvalid's auc: 0.722321\n",
      "[29]\ttrain's auc: 0.744519\tvalid's auc: 0.722858\n",
      "[30]\ttrain's auc: 0.744717\tvalid's auc: 0.723764\n",
      "[31]\ttrain's auc: 0.744957\tvalid's auc: 0.723606\n",
      "[32]\ttrain's auc: 0.745882\tvalid's auc: 0.723286\n",
      "[33]\ttrain's auc: 0.746812\tvalid's auc: 0.723982\n",
      "[34]\ttrain's auc: 0.747768\tvalid's auc: 0.723287\n",
      "[35]\ttrain's auc: 0.748279\tvalid's auc: 0.722579\n",
      "[36]\ttrain's auc: 0.748513\tvalid's auc: 0.722344\n",
      "[37]\ttrain's auc: 0.748601\tvalid's auc: 0.722231\n",
      "[38]\ttrain's auc: 0.748506\tvalid's auc: 0.722769\n",
      "[39]\ttrain's auc: 0.749073\tvalid's auc: 0.722219\n",
      "[40]\ttrain's auc: 0.749356\tvalid's auc: 0.721972\n",
      "[41]\ttrain's auc: 0.749355\tvalid's auc: 0.722112\n",
      "[42]\ttrain's auc: 0.749333\tvalid's auc: 0.722213\n",
      "[43]\ttrain's auc: 0.74984\tvalid's auc: 0.721828\n",
      "[44]\ttrain's auc: 0.75037\tvalid's auc: 0.721212\n",
      "[45]\ttrain's auc: 0.750248\tvalid's auc: 0.721511\n",
      "[46]\ttrain's auc: 0.750434\tvalid's auc: 0.721657\n",
      "[47]\ttrain's auc: 0.750561\tvalid's auc: 0.721572\n",
      "[48]\ttrain's auc: 0.750765\tvalid's auc: 0.721756\n",
      "[49]\ttrain's auc: 0.750641\tvalid's auc: 0.721955\n",
      "[50]\ttrain's auc: 0.751067\tvalid's auc: 0.721259\n",
      "[51]\ttrain's auc: 0.751243\tvalid's auc: 0.721363\n",
      "[52]\ttrain's auc: 0.751762\tvalid's auc: 0.721418\n",
      "[53]\ttrain's auc: 0.752075\tvalid's auc: 0.720956\n",
      "[54]\ttrain's auc: 0.752569\tvalid's auc: 0.720663\n",
      "[55]\ttrain's auc: 0.752974\tvalid's auc: 0.720464\n",
      "[56]\ttrain's auc: 0.753342\tvalid's auc: 0.720539\n",
      "[57]\ttrain's auc: 0.753625\tvalid's auc: 0.720386\n",
      "[58]\ttrain's auc: 0.753845\tvalid's auc: 0.720673\n",
      "[59]\ttrain's auc: 0.753984\tvalid's auc: 0.720464\n",
      "[60]\ttrain's auc: 0.754341\tvalid's auc: 0.720048\n",
      "[61]\ttrain's auc: 0.754853\tvalid's auc: 0.719802\n",
      "[62]\ttrain's auc: 0.754877\tvalid's auc: 0.720117\n",
      "[63]\ttrain's auc: 0.755227\tvalid's auc: 0.719706\n",
      "Early stopping, best iteration is:\n",
      "[33]\ttrain's auc: 0.746812\tvalid's auc: 0.723982\n"
     ]
    },
    {
     "data": {
      "text/plain": [
       "0.72398242368177612"
      ]
     },
     "execution_count": 28,
     "metadata": {},
     "output_type": "execute_result"
    }
   ],
   "source": [
    "model.fit_eval(X_train, y_train, X_test, y_test, num_boost_round=200, verbose_eval=1, early_stopping=30, categorical=categorical_features)"
   ]
  },
  {
   "cell_type": "code",
   "execution_count": 29,
   "metadata": {},
   "outputs": [
    {
     "data": {
      "text/plain": [
       "<matplotlib.figure.Figure at 0x115283780>"
      ]
     },
     "metadata": {},
     "output_type": "display_data"
    },
    {
     "data": {
      "image/png": "[encoded data removed]",
      "text/plain": [
       "<matplotlib.figure.Figure at 0x11262bef0>"
      ]
     },
     "metadata": {},
     "output_type": "display_data"
    }
   ],
   "source": [
    "model.plot_importance()"
   ]
  },
  {
   "cell_type": "code",
   "execution_count": 30,
   "metadata": {
    "collapsed": true
   },
   "outputs": [],
   "source": [
    "pred = model.predict(X_test)"
   ]
  },
  {
   "cell_type": "code",
   "execution_count": 31,
   "metadata": {},
   "outputs": [
    {
     "data": {
      "text/plain": [
       "0.37966333141026398"
      ]
     },
     "execution_count": 31,
     "metadata": {},
     "output_type": "execute_result"
    }
   ],
   "source": [
    "np.mean(pred)"
   ]
  },
  {
   "cell_type": "code",
   "execution_count": 32,
   "metadata": {},
   "outputs": [
    {
     "data": {
      "text/plain": [
       "0.40416857706964077"
      ]
     },
     "execution_count": 32,
     "metadata": {},
     "output_type": "execute_result"
    }
   ],
   "source": [
    "np.median(pred)"
   ]
  },
  {
   "cell_type": "code",
   "execution_count": 33,
   "metadata": {},
   "outputs": [
    {
     "data": {
      "image/png": "[encoded data removed]",
      "text/plain": [
       "<matplotlib.figure.Figure at 0x115283ef0>"
      ]
     },
     "metadata": {},
     "output_type": "display_data"
    }
   ],
   "source": [
    "pl.distro(pred)"
   ]
  },
  {
   "cell_type": "code",
   "execution_count": 34,
   "metadata": {},
   "outputs": [
    {
     "data": {
      "text/plain": [
       "0.72398242368177601"
      ]
     },
     "execution_count": 34,
     "metadata": {},
     "output_type": "execute_result"
    }
   ],
   "source": [
    "from sklearn.metrics import roc_auc_score\n",
    "roc_auc_score(y_test, pred)"
   ]
  },
  {
   "cell_type": "markdown",
   "metadata": {},
   "source": [
    "# make decision"
   ]
  },
  {
   "cell_type": "code",
   "execution_count": 35,
   "metadata": {},
   "outputs": [
    {
     "name": "stdout",
     "output_type": "stream",
     "text": [
      "Zap lead(%):  [ 13.0867144]\n"
     ]
    }
   ],
   "source": [
    "print(\"Zap lead(%): \", sum(y_test)*100 / y_test.shape)"
   ]
  },
  {
   "cell_type": "code",
   "execution_count": 36,
   "metadata": {},
   "outputs": [
    {
     "name": "stdout",
     "output_type": "stream",
     "text": [
      "Zap lead(%) in random sample:  [ 12.64916468]\n"
     ]
    }
   ],
   "source": [
    "# Take a random sample\n",
    "rand_sample = y_test.sample(frac=0.50)\n",
    "\n",
    "print(\"Zap lead(%) in random sample: \", sum(rand_sample)*100 / rand_sample.shape)"
   ]
  },
  {
   "cell_type": "code",
   "execution_count": 37,
   "metadata": {
    "collapsed": true
   },
   "outputs": [],
   "source": [
    "# select 50% of the data with high probability\n",
    "threshold = np.percentile(pred, 50)\n",
    "index = [True if x>threshold else False for x in pred]"
   ]
  },
  {
   "cell_type": "code",
   "execution_count": 38,
   "metadata": {},
   "outputs": [
    {
     "name": "stdout",
     "output_type": "stream",
     "text": [
      "Zap lead(%) in sample with high probability:  [ 21.10712863]\n"
     ]
    }
   ],
   "source": [
    "prob_sample = y_test[index]\n",
    "print(\"Zap lead(%) in sample with high probability: \", sum(prob_sample)*100 / prob_sample.shape)"
   ]
  },
  {
   "cell_type": "code",
   "execution_count": 39,
   "metadata": {},
   "outputs": [
    {
     "name": "stdout",
     "output_type": "stream",
     "text": [
      "Zap lead(%) in sample with low probability:  [ 4.98405104]\n"
     ]
    }
   ],
   "source": [
    "# select 50% of the data with low probability\n",
    "threshold = np.percentile(pred, 50)\n",
    "index = [True if x<threshold else False for x in pred]\n",
    "prob_sample = y_test[index]\n",
    "print(\"Zap lead(%) in sample with low probability: \", sum(prob_sample)*100 / prob_sample.shape)"
   ]
  },
  {
   "cell_type": "code",
   "execution_count": null,
   "metadata": {
    "collapsed": true
   },
   "outputs": [],
   "source": []
  }
 ],
 "metadata": {
  "kernelspec": {
   "display_name": "Python 3",
   "language": "python",
   "name": "python3"
  },
  "language_info": {
   "codemirror_mode": {
    "name": "ipython",
    "version": 3
   },
   "file_extension": ".py",
   "mimetype": "text/x-python",
   "name": "python",
   "nbconvert_exporter": "python",
   "pygments_lexer": "ipython3",
   "version": "3.6.3"
  }
 },
 "nbformat": 4,
 "nbformat_minor": 2
}
